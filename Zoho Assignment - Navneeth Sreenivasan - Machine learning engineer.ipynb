{
 "cells": [
  {
   "cell_type": "markdown",
   "id": "bb1d52e4",
   "metadata": {},
   "source": [
    "## Import libraries and create the dataframe"
   ]
  },
  {
   "cell_type": "code",
   "execution_count": 1,
   "id": "5cf729dd",
   "metadata": {},
   "outputs": [],
   "source": [
    "import pandas as pd\n",
    "from sklearn.preprocessing import OneHotEncoder\n",
    "import numpy as np\n",
    "from sklearn.model_selection import train_test_split\n",
    "from sklearn.linear_model import LinearRegression\n",
    "from sklearn.linear_model import Ridge\n",
    "from sklearn.tree import DecisionTreeRegressor\n",
    "from sklearn.ensemble import RandomForestRegressor\n",
    "from sklearn.metrics import mean_squared_error, mean_absolute_error, r2_score\n",
    "import math"
   ]
  },
  {
   "cell_type": "code",
   "execution_count": 6,
   "id": "27f362a8",
   "metadata": {},
   "outputs": [
    {
     "data": {
      "text/html": [
       "<div>\n",
       "<style scoped>\n",
       "    .dataframe tbody tr th:only-of-type {\n",
       "        vertical-align: middle;\n",
       "    }\n",
       "\n",
       "    .dataframe tbody tr th {\n",
       "        vertical-align: top;\n",
       "    }\n",
       "\n",
       "    .dataframe thead th {\n",
       "        text-align: right;\n",
       "    }\n",
       "</style>\n",
       "<table border=\"1\" class=\"dataframe\">\n",
       "  <thead>\n",
       "    <tr style=\"text-align: right;\">\n",
       "      <th></th>\n",
       "      <th>movie_title</th>\n",
       "      <th>movie_info</th>\n",
       "      <th>critics_consensus</th>\n",
       "      <th>rating</th>\n",
       "      <th>genre</th>\n",
       "      <th>directors</th>\n",
       "      <th>writers</th>\n",
       "      <th>cast</th>\n",
       "      <th>in_theaters_date</th>\n",
       "      <th>on_streaming_date</th>\n",
       "      <th>runtime_in_minutes</th>\n",
       "      <th>studio_name</th>\n",
       "      <th>tomatometer_status</th>\n",
       "      <th>tomatometer_rating</th>\n",
       "      <th>tomatometer_count</th>\n",
       "      <th>audience_rating</th>\n",
       "    </tr>\n",
       "  </thead>\n",
       "  <tbody>\n",
       "    <tr>\n",
       "      <th>0</th>\n",
       "      <td>Percy Jackson &amp; the Olympians: The Lightning T...</td>\n",
       "      <td>A teenager discovers he's the descendant of a ...</td>\n",
       "      <td>Though it may seem like just another Harry Pot...</td>\n",
       "      <td>PG</td>\n",
       "      <td>Action &amp; Adventure, Comedy, Drama, Science Fic...</td>\n",
       "      <td>Chris Columbus</td>\n",
       "      <td>Craig Titley</td>\n",
       "      <td>Logan Lerman, Brandon T. Jackson, Alexandra Da...</td>\n",
       "      <td>2/12/2010</td>\n",
       "      <td>6/29/2010</td>\n",
       "      <td>83.0</td>\n",
       "      <td>20th Century Fox</td>\n",
       "      <td>Rotten</td>\n",
       "      <td>49</td>\n",
       "      <td>144</td>\n",
       "      <td>53.0</td>\n",
       "    </tr>\n",
       "    <tr>\n",
       "      <th>1</th>\n",
       "      <td>Please Give</td>\n",
       "      <td>Kate has a lot on her mind. There's the ethics...</td>\n",
       "      <td>Nicole Holofcener's newest might seem slight i...</td>\n",
       "      <td>R</td>\n",
       "      <td>Comedy</td>\n",
       "      <td>Nicole Holofcener</td>\n",
       "      <td>Nicole Holofcener</td>\n",
       "      <td>Catherine Keener, Amanda Peet, Oliver Platt, R...</td>\n",
       "      <td>4/30/2010</td>\n",
       "      <td>10/19/2010</td>\n",
       "      <td>90.0</td>\n",
       "      <td>Sony Pictures Classics</td>\n",
       "      <td>Certified Fresh</td>\n",
       "      <td>86</td>\n",
       "      <td>140</td>\n",
       "      <td>64.0</td>\n",
       "    </tr>\n",
       "    <tr>\n",
       "      <th>2</th>\n",
       "      <td>10</td>\n",
       "      <td>Blake Edwards' 10 stars Dudley Moore as George...</td>\n",
       "      <td>NaN</td>\n",
       "      <td>R</td>\n",
       "      <td>Comedy, Romance</td>\n",
       "      <td>Blake Edwards</td>\n",
       "      <td>Blake Edwards</td>\n",
       "      <td>Dudley Moore, Bo Derek, Julie Andrews, Robert ...</td>\n",
       "      <td>10/5/1979</td>\n",
       "      <td>8/27/1997</td>\n",
       "      <td>118.0</td>\n",
       "      <td>Waner Bros.</td>\n",
       "      <td>Fresh</td>\n",
       "      <td>68</td>\n",
       "      <td>22</td>\n",
       "      <td>53.0</td>\n",
       "    </tr>\n",
       "    <tr>\n",
       "      <th>3</th>\n",
       "      <td>12 Angry Men (Twelve Angry Men)</td>\n",
       "      <td>A Puerto Rican youth is on trial for murder, a...</td>\n",
       "      <td>Sidney Lumet's feature debut is a superbly wri...</td>\n",
       "      <td>NR</td>\n",
       "      <td>Classics, Drama</td>\n",
       "      <td>Sidney Lumet</td>\n",
       "      <td>Reginald Rose</td>\n",
       "      <td>Martin Balsam, John Fiedler, Lee J. Cobb, E.G....</td>\n",
       "      <td>4/13/1957</td>\n",
       "      <td>3/6/2001</td>\n",
       "      <td>95.0</td>\n",
       "      <td>Criterion Collection</td>\n",
       "      <td>Certified Fresh</td>\n",
       "      <td>100</td>\n",
       "      <td>51</td>\n",
       "      <td>97.0</td>\n",
       "    </tr>\n",
       "    <tr>\n",
       "      <th>4</th>\n",
       "      <td>20,000 Leagues Under The Sea</td>\n",
       "      <td>This 1954 Disney version of Jules Verne's 20,0...</td>\n",
       "      <td>One of Disney's finest live-action adventures,...</td>\n",
       "      <td>G</td>\n",
       "      <td>Action &amp; Adventure, Drama, Kids &amp; Family</td>\n",
       "      <td>Richard Fleischer</td>\n",
       "      <td>Earl Felton</td>\n",
       "      <td>James Mason, Kirk Douglas, Paul Lukas, Peter L...</td>\n",
       "      <td>1/1/1954</td>\n",
       "      <td>5/20/2003</td>\n",
       "      <td>127.0</td>\n",
       "      <td>Disney</td>\n",
       "      <td>Fresh</td>\n",
       "      <td>89</td>\n",
       "      <td>27</td>\n",
       "      <td>74.0</td>\n",
       "    </tr>\n",
       "  </tbody>\n",
       "</table>\n",
       "</div>"
      ],
      "text/plain": [
       "                                         movie_title  \\\n",
       "0  Percy Jackson & the Olympians: The Lightning T...   \n",
       "1                                        Please Give   \n",
       "2                                                 10   \n",
       "3                    12 Angry Men (Twelve Angry Men)   \n",
       "4                       20,000 Leagues Under The Sea   \n",
       "\n",
       "                                          movie_info  \\\n",
       "0  A teenager discovers he's the descendant of a ...   \n",
       "1  Kate has a lot on her mind. There's the ethics...   \n",
       "2  Blake Edwards' 10 stars Dudley Moore as George...   \n",
       "3  A Puerto Rican youth is on trial for murder, a...   \n",
       "4  This 1954 Disney version of Jules Verne's 20,0...   \n",
       "\n",
       "                                   critics_consensus rating  \\\n",
       "0  Though it may seem like just another Harry Pot...     PG   \n",
       "1  Nicole Holofcener's newest might seem slight i...      R   \n",
       "2                                                NaN      R   \n",
       "3  Sidney Lumet's feature debut is a superbly wri...     NR   \n",
       "4  One of Disney's finest live-action adventures,...      G   \n",
       "\n",
       "                                               genre          directors  \\\n",
       "0  Action & Adventure, Comedy, Drama, Science Fic...     Chris Columbus   \n",
       "1                                             Comedy  Nicole Holofcener   \n",
       "2                                    Comedy, Romance      Blake Edwards   \n",
       "3                                    Classics, Drama       Sidney Lumet   \n",
       "4           Action & Adventure, Drama, Kids & Family  Richard Fleischer   \n",
       "\n",
       "             writers                                               cast  \\\n",
       "0       Craig Titley  Logan Lerman, Brandon T. Jackson, Alexandra Da...   \n",
       "1  Nicole Holofcener  Catherine Keener, Amanda Peet, Oliver Platt, R...   \n",
       "2      Blake Edwards  Dudley Moore, Bo Derek, Julie Andrews, Robert ...   \n",
       "3      Reginald Rose  Martin Balsam, John Fiedler, Lee J. Cobb, E.G....   \n",
       "4        Earl Felton  James Mason, Kirk Douglas, Paul Lukas, Peter L...   \n",
       "\n",
       "  in_theaters_date on_streaming_date  runtime_in_minutes  \\\n",
       "0        2/12/2010         6/29/2010                83.0   \n",
       "1        4/30/2010        10/19/2010                90.0   \n",
       "2        10/5/1979         8/27/1997               118.0   \n",
       "3        4/13/1957          3/6/2001                95.0   \n",
       "4         1/1/1954         5/20/2003               127.0   \n",
       "\n",
       "              studio_name tomatometer_status  tomatometer_rating  \\\n",
       "0        20th Century Fox             Rotten                  49   \n",
       "1  Sony Pictures Classics    Certified Fresh                  86   \n",
       "2             Waner Bros.              Fresh                  68   \n",
       "3    Criterion Collection    Certified Fresh                 100   \n",
       "4                  Disney              Fresh                  89   \n",
       "\n",
       "   tomatometer_count  audience_rating  \n",
       "0                144             53.0  \n",
       "1                140             64.0  \n",
       "2                 22             53.0  \n",
       "3                 51             97.0  \n",
       "4                 27             74.0  "
      ]
     },
     "metadata": {},
     "output_type": "display_data"
    }
   ],
   "source": [
    "df = pd.read_csv('Desktop/Rotten_Tomatoes_Movies3.csv')\n",
    "display(df.head())"
   ]
  },
  {
   "cell_type": "code",
   "execution_count": 7,
   "id": "45d46274",
   "metadata": {},
   "outputs": [
    {
     "name": "stdout",
     "output_type": "stream",
     "text": [
      "(16638, 16)\n"
     ]
    }
   ],
   "source": [
    "print(df.shape)"
   ]
  },
  {
   "cell_type": "markdown",
   "id": "c19f16ed",
   "metadata": {},
   "source": [
    "## Data preprocessing"
   ]
  },
  {
   "cell_type": "markdown",
   "id": "f13803ab",
   "metadata": {},
   "source": [
    "### Check the data types as well as the null/missing values in the dataset"
   ]
  },
  {
   "cell_type": "code",
   "execution_count": 15,
   "id": "76211d88",
   "metadata": {},
   "outputs": [
    {
     "data": {
      "text/plain": [
       "movie_title            object\n",
       "movie_info             object\n",
       "rating                 object\n",
       "genre                  object\n",
       "directors              object\n",
       "writers                object\n",
       "cast                   object\n",
       "in_theaters_date       object\n",
       "on_streaming_date      object\n",
       "runtime_in_minutes    float64\n",
       "studio_name            object\n",
       "tomatometer_status     object\n",
       "tomatometer_rating      int64\n",
       "tomatometer_count       int64\n",
       "audience_rating       float64\n",
       "dtype: object"
      ]
     },
     "metadata": {},
     "output_type": "display_data"
    },
    {
     "data": {
      "text/plain": [
       "movie_title              0\n",
       "movie_info              24\n",
       "rating                   0\n",
       "genre                   17\n",
       "directors              114\n",
       "writers               1349\n",
       "cast                   284\n",
       "in_theaters_date       815\n",
       "on_streaming_date        2\n",
       "runtime_in_minutes       0\n",
       "studio_name            416\n",
       "tomatometer_status       0\n",
       "tomatometer_rating       0\n",
       "tomatometer_count        0\n",
       "audience_rating          0\n",
       "dtype: int64"
      ]
     },
     "metadata": {},
     "output_type": "display_data"
    }
   ],
   "source": [
    "display(df.dtypes, df.isnull().sum())"
   ]
  },
  {
   "cell_type": "markdown",
   "id": "60396a12",
   "metadata": {},
   "source": [
    "The column 'critics_consensus' contains more than 50% missing data, so we can drop it.\n",
    "For the columns which have int or float types and contain missing data, we can replace the missing values by the mean of those columns. In order to do that, we create a separate function called null_check which handles the null_values. Along with that, it will also drop the column critics_consensus (and any other column whihc consists of 50% missing data which we missed)."
   ]
  },
  {
   "cell_type": "code",
   "execution_count": 10,
   "id": "134139f5",
   "metadata": {},
   "outputs": [],
   "source": [
    "def null_check():\n",
    "    for i in df.columns:\n",
    "        if ((df[i].isnull().sum()*100/len(df[i]))>50):\n",
    "            df.drop([i],axis=1,inplace=True)\n",
    "        elif(df[i].dtypes=='int' or df[i].dtypes=='float'):\n",
    "            df[i]=df[i].fillna(df[i].mean())"
   ]
  },
  {
   "cell_type": "code",
   "execution_count": 11,
   "id": "16f01f3c",
   "metadata": {},
   "outputs": [],
   "source": [
    "null_check()"
   ]
  },
  {
   "cell_type": "code",
   "execution_count": 16,
   "id": "ea2e6865",
   "metadata": {},
   "outputs": [
    {
     "data": {
      "text/plain": [
       "movie_title            object\n",
       "movie_info             object\n",
       "rating                 object\n",
       "genre                  object\n",
       "directors              object\n",
       "writers                object\n",
       "cast                   object\n",
       "in_theaters_date       object\n",
       "on_streaming_date      object\n",
       "runtime_in_minutes    float64\n",
       "studio_name            object\n",
       "tomatometer_status     object\n",
       "tomatometer_rating      int64\n",
       "tomatometer_count       int64\n",
       "audience_rating       float64\n",
       "dtype: object"
      ]
     },
     "metadata": {},
     "output_type": "display_data"
    },
    {
     "data": {
      "text/plain": [
       "movie_title              0\n",
       "movie_info              24\n",
       "rating                   0\n",
       "genre                   17\n",
       "directors              114\n",
       "writers               1349\n",
       "cast                   284\n",
       "in_theaters_date       815\n",
       "on_streaming_date        2\n",
       "runtime_in_minutes       0\n",
       "studio_name            416\n",
       "tomatometer_status       0\n",
       "tomatometer_rating       0\n",
       "tomatometer_count        0\n",
       "audience_rating          0\n",
       "dtype: int64"
      ]
     },
     "metadata": {},
     "output_type": "display_data"
    }
   ],
   "source": [
    "display(df.dtypes, df.isnull().sum())"
   ]
  },
  {
   "cell_type": "markdown",
   "id": "2e2d3bc4",
   "metadata": {},
   "source": [
    "We can see that the missing data among all the int/float datatypes have been handled."
   ]
  },
  {
   "cell_type": "markdown",
   "id": "4ef9f45e",
   "metadata": {},
   "source": [
    "### Handling the object datatypes"
   ]
  },
  {
   "cell_type": "markdown",
   "id": "88443fd8",
   "metadata": {},
   "source": [
    "The columns 'genre', 'directors' and 'writers' consist of common elements (i.e different movies can belong to the same genre and may have same directors or writers). In this case, we take the elements of one of those columns, for eg. genre, and we convert the objects into integers or floats. \n",
    "\n",
    "1) We first take all the genres present in the dataset and put them into a list, called 'genre_values'\n",
    "2) Then we assign a score to each movie based on it's genre - the score is the index of the genre in the list. If a movie consists of multiple genres, we take the average of the indexes of all the genres and assign it to a list called 'new_genre'\n",
    "3) We convert new_genre to a dataframe"
   ]
  },
  {
   "cell_type": "code",
   "execution_count": 18,
   "id": "2b6fdfa3",
   "metadata": {},
   "outputs": [
    {
     "name": "stdout",
     "output_type": "stream",
     "text": [
      "               0\n",
      "0      18.111111\n",
      "1      50.000000\n",
      "2      34.000000\n",
      "3      20.500000\n",
      "4      18.142857\n",
      "...          ...\n",
      "16633  37.800000\n",
      "16634  27.600000\n",
      "16635  18.333333\n",
      "16636  20.500000\n",
      "16637  17.750000\n",
      "\n",
      "[16638 rows x 1 columns]\n"
     ]
    }
   ],
   "source": [
    "genre_values = []\n",
    "for i in df['genre']:\n",
    "    genre_values += str(i).split()\n",
    "genre_values = list(set(genre_values))\n",
    "#print(genre_values)\n",
    "new_genre = []\n",
    "for i in df['genre']:\n",
    "    i = str(i).split()\n",
    "    avg_value = 0\n",
    "    for j in i:\n",
    "        if j in genre_values:\n",
    "            avg_value += genre_values.index(j)\n",
    "    avg_value = avg_value/len(i)\n",
    "    #print(avg_value)\n",
    "    new_genre.append(avg_value)\n",
    "#print(new_genre)\n",
    "new_genre=pd.DataFrame(new_genre)\n",
    "print(new_genre)"
   ]
  },
  {
   "cell_type": "markdown",
   "id": "c121eba4",
   "metadata": {},
   "source": [
    "We do the same process for the columns 'directors' and 'writers'"
   ]
  },
  {
   "cell_type": "code",
   "execution_count": 20,
   "id": "46f6403a",
   "metadata": {},
   "outputs": [
    {
     "name": "stdout",
     "output_type": "stream",
     "text": [
      "                 0\n",
      "0      6132.000000\n",
      "1      4236.000000\n",
      "2      7913.000000\n",
      "3      4651.000000\n",
      "4      4176.000000\n",
      "...            ...\n",
      "16633  2009.000000\n",
      "16634  3079.333333\n",
      "16635  8074.000000\n",
      "16636  6035.500000\n",
      "16637  6668.000000\n",
      "\n",
      "[16638 rows x 1 columns]\n"
     ]
    }
   ],
   "source": [
    "directors_values = []\n",
    "for i in df['directors']:\n",
    "    directors_values += str(i).split(',')\n",
    "directors_values = list(set(directors_values))\n",
    "#print(directors_values)\n",
    "new_directors = []\n",
    "for i in df['directors']:\n",
    "    i = str(i).split(',')\n",
    "    avg_value = 0\n",
    "    for j in i:\n",
    "        if j in directors_values:\n",
    "            avg_value += directors_values.index(j)\n",
    "    avg_value = avg_value/len(i)\n",
    "    #print(avg_value)\n",
    "    new_directors.append(avg_value)\n",
    "#print(new_directors)\n",
    "new_directors=pd.DataFrame(new_directors)\n",
    "print(new_directors)"
   ]
  },
  {
   "cell_type": "code",
   "execution_count": 21,
   "id": "212c81fe",
   "metadata": {},
   "outputs": [
    {
     "name": "stdout",
     "output_type": "stream",
     "text": [
      "             0\n",
      "0      15506.0\n",
      "1       7656.0\n",
      "2      14134.0\n",
      "3      15302.0\n",
      "4      12749.0\n",
      "...        ...\n",
      "16633   3563.0\n",
      "16634   7375.0\n",
      "16635  14462.0\n",
      "16636   5898.0\n",
      "16637   8951.0\n",
      "\n",
      "[16638 rows x 1 columns]\n"
     ]
    }
   ],
   "source": [
    "writers_values = []\n",
    "for i in df['writers']:\n",
    "    writers_values += str(i).split(',')\n",
    "writers_values = list(set(writers_values))\n",
    "#print(writers_values)\n",
    "new_writers = []\n",
    "for i in df['writers']:\n",
    "    i = str(i).split(',')\n",
    "    avg_value = 0\n",
    "    for j in i:\n",
    "        if j in writers_values:\n",
    "            avg_value += writers_values.index(j)\n",
    "    avg_value = avg_value/len(i)\n",
    "    #print(avg_value)\n",
    "    new_writers.append(avg_value)\n",
    "#print(new_directors)\n",
    "new_writers=pd.DataFrame(new_writers)\n",
    "print(new_writers)"
   ]
  },
  {
   "cell_type": "markdown",
   "id": "64f178bb",
   "metadata": {},
   "source": [
    "For the column 'cast' also, we can use a similar process as we did for genre, directors and writers, however, there are 2,04,103 unique cast members in total, so finding the average and creating a different dataframe with the averages is going to be time-consuming, therefore it may be better to drop that column. Similarly, the column 'studio_name' also consists of 2887 unique names, therefore it may be better to drop it. \n",
    "\n",
    "The column 'movie_title' consists of 16106 unique titles out of a total of 16638, so almost 500 are repeated ones, we do not know any way by which we can handle these, so we drop that too.\n",
    "\n",
    "Apart from this column, the columns movie_title, movie_info, in_theatres_date and on_streaming_date does not give us any important information as to predict audience_rating, so we drop those as well.\n",
    "\n",
    "Along with these, we can drop the columns genre, directors and writers since we already have worked on those and just need to add the new dataframes to the dataset."
   ]
  },
  {
   "cell_type": "code",
   "execution_count": 22,
   "id": "8e7aaa19",
   "metadata": {},
   "outputs": [],
   "source": [
    "df = df.drop(['movie_title', 'movie_info', 'in_theaters_date', 'on_streaming_date', 'studio_name', 'cast'], axis=1)\n",
    "df = df.drop(['genre', 'writers', 'directors'], axis=1)"
   ]
  },
  {
   "cell_type": "code",
   "execution_count": 26,
   "id": "4479ab7d",
   "metadata": {},
   "outputs": [],
   "source": [
    "new_genre.columns = ['genre']\n",
    "new_writers.columns = ['writers']\n",
    "new_directors.columns = ['directors']\n",
    "updated_df = updated_df = pd.concat([df, new_genre, new_directors,new_writers],axis=1)"
   ]
  },
  {
   "cell_type": "code",
   "execution_count": 27,
   "id": "3ff3090b",
   "metadata": {},
   "outputs": [
    {
     "name": "stdout",
     "output_type": "stream",
     "text": [
      "Index(['rating', 'runtime_in_minutes', 'tomatometer_status',\n",
      "       'tomatometer_rating', 'tomatometer_count', 'audience_rating', 'genre',\n",
      "       'directors', 'writers'],\n",
      "      dtype='object')\n"
     ]
    }
   ],
   "source": [
    "print(updated_df.columns)"
   ]
  },
  {
   "cell_type": "code",
   "execution_count": 29,
   "id": "ae15a8ff",
   "metadata": {},
   "outputs": [
    {
     "data": {
      "text/plain": [
       "rating                 object\n",
       "runtime_in_minutes    float64\n",
       "tomatometer_status     object\n",
       "tomatometer_rating      int64\n",
       "tomatometer_count       int64\n",
       "audience_rating       float64\n",
       "genre                 float64\n",
       "directors             float64\n",
       "writers               float64\n",
       "dtype: object"
      ]
     },
     "metadata": {},
     "output_type": "display_data"
    },
    {
     "data": {
      "text/plain": [
       "rating                0\n",
       "runtime_in_minutes    0\n",
       "tomatometer_status    0\n",
       "tomatometer_rating    0\n",
       "tomatometer_count     0\n",
       "audience_rating       0\n",
       "genre                 0\n",
       "directors             0\n",
       "writers               0\n",
       "dtype: int64"
      ]
     },
     "metadata": {},
     "output_type": "display_data"
    }
   ],
   "source": [
    "display(updated_df.dtypes, updated_df.isnull().sum())"
   ]
  },
  {
   "cell_type": "markdown",
   "id": "0f265b20",
   "metadata": {},
   "source": [
    "All the data which contained missing values have been handled properly, along with converting string data to numerical format as well."
   ]
  },
  {
   "cell_type": "markdown",
   "id": "a35e89d5",
   "metadata": {},
   "source": [
    "### Handling categorical data"
   ]
  },
  {
   "cell_type": "markdown",
   "id": "aa0b93dc",
   "metadata": {},
   "source": [
    "Now we need to work on the columns rating and tomatometer_status. We can see that these are categorical values, so we use OneHotEncoder to convert these to numerical data."
   ]
  },
  {
   "cell_type": "code",
   "execution_count": 32,
   "id": "d62f2820",
   "metadata": {},
   "outputs": [],
   "source": [
    "categorical_columns = ['tomatometer_status', 'rating']\n",
    "encoded_df = updated_df.drop(categorical_columns, axis=1)\n",
    "encoder = OneHotEncoder(sparse_output=False)\n",
    "one_hot_encoded = encoder.fit_transform(updated_df[categorical_columns])   \n",
    "one_hot_df = pd.DataFrame(one_hot_encoded, columns=encoder.get_feature_names_out\n",
    "                          (categorical_columns))                                \n",
    "final_df = pd.concat([updated_df, one_hot_df], axis=1)\n",
    "final_df = final_df.drop(['rating', 'tomatometer_status'], axis=1)"
   ]
  },
  {
   "cell_type": "code",
   "execution_count": 33,
   "id": "bb9e8956",
   "metadata": {},
   "outputs": [
    {
     "name": "stdout",
     "output_type": "stream",
     "text": [
      "Index(['runtime_in_minutes', 'tomatometer_rating', 'tomatometer_count',\n",
      "       'audience_rating', 'genre', 'directors', 'writers',\n",
      "       'tomatometer_status_Certified Fresh', 'tomatometer_status_Fresh',\n",
      "       'tomatometer_status_Rotten', 'rating_G', 'rating_NC17', 'rating_NR',\n",
      "       'rating_PG', 'rating_PG-13', 'rating_PG-13)', 'rating_R', 'rating_R)'],\n",
      "      dtype='object')\n"
     ]
    }
   ],
   "source": [
    "print(final_df.columns) "
   ]
  },
  {
   "cell_type": "code",
   "execution_count": 35,
   "id": "dff04e2f",
   "metadata": {},
   "outputs": [
    {
     "name": "stdout",
     "output_type": "stream",
     "text": [
      "runtime_in_minutes                    float64\n",
      "tomatometer_rating                      int64\n",
      "tomatometer_count                       int64\n",
      "audience_rating                       float64\n",
      "genre                                 float64\n",
      "directors                             float64\n",
      "writers                               float64\n",
      "tomatometer_status_Certified Fresh    float64\n",
      "tomatometer_status_Fresh              float64\n",
      "tomatometer_status_Rotten             float64\n",
      "rating_G                              float64\n",
      "rating_NC17                           float64\n",
      "rating_NR                             float64\n",
      "rating_PG                             float64\n",
      "rating_PG-13                          float64\n",
      "rating_PG-13)                         float64\n",
      "rating_R                              float64\n",
      "rating_R)                             float64\n",
      "dtype: object\n"
     ]
    }
   ],
   "source": [
    "print(final_df.dtypes)"
   ]
  },
  {
   "cell_type": "code",
   "execution_count": 36,
   "id": "7130d968",
   "metadata": {},
   "outputs": [
    {
     "name": "stdout",
     "output_type": "stream",
     "text": [
      "runtime_in_minutes                    0\n",
      "tomatometer_rating                    0\n",
      "tomatometer_count                     0\n",
      "audience_rating                       0\n",
      "genre                                 0\n",
      "directors                             0\n",
      "writers                               0\n",
      "tomatometer_status_Certified Fresh    0\n",
      "tomatometer_status_Fresh              0\n",
      "tomatometer_status_Rotten             0\n",
      "rating_G                              0\n",
      "rating_NC17                           0\n",
      "rating_NR                             0\n",
      "rating_PG                             0\n",
      "rating_PG-13                          0\n",
      "rating_PG-13)                         0\n",
      "rating_R                              0\n",
      "rating_R)                             0\n",
      "dtype: int64\n"
     ]
    }
   ],
   "source": [
    "print(final_df.isnull().sum())"
   ]
  },
  {
   "cell_type": "markdown",
   "id": "1f028e70",
   "metadata": {},
   "source": [
    "## Training and Testing the data"
   ]
  },
  {
   "cell_type": "code",
   "execution_count": 37,
   "id": "8aaa2365",
   "metadata": {},
   "outputs": [
    {
     "name": "stdout",
     "output_type": "stream",
     "text": [
      "       runtime_in_minutes  tomatometer_rating  tomatometer_count      genre  \\\n",
      "5814           106.000000                  74                 34  18.000000   \n",
      "10782          120.000000                  85                 20  30.333333   \n",
      "5932           121.000000                  92                 25  29.600000   \n",
      "2257            93.000000                  44                  9  18.000000   \n",
      "16545          105.000000                  17                 93  50.000000   \n",
      "...                   ...                 ...                ...        ...   \n",
      "1770            99.000000                  29                 17  52.500000   \n",
      "16242           98.000000                   7                148  35.000000   \n",
      "14464           90.000000                  55                131  15.375000   \n",
      "1645           113.000000                  57                 44  16.000000   \n",
      "12120          102.391494                  27                 22  50.000000   \n",
      "\n",
      "       directors       writers  tomatometer_status_Certified Fresh  \\\n",
      "5814      3466.0   5771.000000                                 0.0   \n",
      "10782     7913.0  10200.000000                                 0.0   \n",
      "5932      3307.0   6538.000000                                 0.0   \n",
      "2257      7131.0  13243.000000                                 0.0   \n",
      "16545     4758.0  13290.000000                                 0.0   \n",
      "...          ...           ...                                 ...   \n",
      "1770      4790.0  14255.000000                                 0.0   \n",
      "16242     8829.0  11354.000000                                 0.0   \n",
      "14464     7308.0   4542.333333                                 0.0   \n",
      "1645      6023.0  10794.000000                                 0.0   \n",
      "12120     7122.0   6486.666667                                 0.0   \n",
      "\n",
      "       tomatometer_status_Fresh  tomatometer_status_Rotten  rating_G  \\\n",
      "5814                        1.0                        0.0       0.0   \n",
      "10782                       1.0                        0.0       0.0   \n",
      "5932                        1.0                        0.0       0.0   \n",
      "2257                        0.0                        1.0       0.0   \n",
      "16545                       0.0                        1.0       0.0   \n",
      "...                         ...                        ...       ...   \n",
      "1770                        0.0                        1.0       0.0   \n",
      "16242                       0.0                        1.0       0.0   \n",
      "14464                       0.0                        1.0       0.0   \n",
      "1645                        0.0                        1.0       0.0   \n",
      "12120                       0.0                        1.0       0.0   \n",
      "\n",
      "       rating_NC17  rating_NR  rating_PG  rating_PG-13  rating_PG-13)  \\\n",
      "5814           0.0        1.0        0.0           0.0            0.0   \n",
      "10782          0.0        1.0        0.0           0.0            0.0   \n",
      "5932           0.0        0.0        1.0           0.0            0.0   \n",
      "2257           0.0        0.0        0.0           0.0            0.0   \n",
      "16545          0.0        0.0        1.0           0.0            0.0   \n",
      "...            ...        ...        ...           ...            ...   \n",
      "1770           0.0        0.0        0.0           0.0            0.0   \n",
      "16242          0.0        0.0        0.0           1.0            0.0   \n",
      "14464          0.0        0.0        1.0           0.0            0.0   \n",
      "1645           0.0        0.0        1.0           0.0            0.0   \n",
      "12120          0.0        1.0        0.0           0.0            0.0   \n",
      "\n",
      "       rating_R  rating_R)  \n",
      "5814        0.0        0.0  \n",
      "10782       0.0        0.0  \n",
      "5932        0.0        0.0  \n",
      "2257        1.0        0.0  \n",
      "16545       0.0        0.0  \n",
      "...         ...        ...  \n",
      "1770        1.0        0.0  \n",
      "16242       0.0        0.0  \n",
      "14464       0.0        0.0  \n",
      "1645        0.0        0.0  \n",
      "12120       0.0        0.0  \n",
      "\n",
      "[13310 rows x 17 columns]        runtime_in_minutes  tomatometer_rating  tomatometer_count      genre  \\\n",
      "4550                133.0                  64                 11  53.500000   \n",
      "3779                116.0                  71                 62  27.285714   \n",
      "16069               104.0                  28                 18  50.000000   \n",
      "3251                 96.0                  13                 16  26.857143   \n",
      "16623                85.0                  69                 35  23.800000   \n",
      "...                   ...                 ...                ...        ...   \n",
      "12894                58.0                 100                  5  33.000000   \n",
      "13727               111.0                  73                 11  24.333333   \n",
      "50                  138.0                  99                 72  17.250000   \n",
      "6683                139.0                  46                 24  39.666667   \n",
      "15788                96.0                  11                 76  30.750000   \n",
      "\n",
      "       directors   writers  tomatometer_status_Certified Fresh  \\\n",
      "4550      5116.0   9080.00                                 0.0   \n",
      "3779      5523.0  12031.00                                 0.0   \n",
      "16069     3999.0   7201.00                                 0.0   \n",
      "3251      7399.0  13213.00                                 0.0   \n",
      "16623     6430.0   4560.50                                 0.0   \n",
      "...          ...       ...                                 ...   \n",
      "12894     9034.0  14462.00                                 0.0   \n",
      "13727     8184.0  14622.00                                 0.0   \n",
      "50         891.0   1582.00                                 1.0   \n",
      "6683      8735.0  15596.00                                 0.0   \n",
      "15788     8428.0   5799.75                                 0.0   \n",
      "\n",
      "       tomatometer_status_Fresh  tomatometer_status_Rotten  rating_G  \\\n",
      "4550                        1.0                        0.0       0.0   \n",
      "3779                        1.0                        0.0       0.0   \n",
      "16069                       0.0                        1.0       0.0   \n",
      "3251                        0.0                        1.0       0.0   \n",
      "16623                       1.0                        0.0       0.0   \n",
      "...                         ...                        ...       ...   \n",
      "12894                       1.0                        0.0       0.0   \n",
      "13727                       1.0                        0.0       0.0   \n",
      "50                          0.0                        0.0       0.0   \n",
      "6683                        0.0                        1.0       0.0   \n",
      "15788                       0.0                        1.0       0.0   \n",
      "\n",
      "       rating_NC17  rating_NR  rating_PG  rating_PG-13  rating_PG-13)  \\\n",
      "4550           0.0        0.0        0.0           0.0            0.0   \n",
      "3779           0.0        0.0        0.0           1.0            0.0   \n",
      "16069          0.0        0.0        0.0           0.0            0.0   \n",
      "3251           0.0        0.0        0.0           0.0            0.0   \n",
      "16623          0.0        0.0        0.0           0.0            0.0   \n",
      "...            ...        ...        ...           ...            ...   \n",
      "12894          0.0        1.0        0.0           0.0            0.0   \n",
      "13727          0.0        1.0        0.0           0.0            0.0   \n",
      "50             0.0        0.0        0.0           0.0            0.0   \n",
      "6683           0.0        0.0        0.0           0.0            0.0   \n",
      "15788          0.0        0.0        0.0           0.0            0.0   \n",
      "\n",
      "       rating_R  rating_R)  \n",
      "4550        1.0        0.0  \n",
      "3779        0.0        0.0  \n",
      "16069       1.0        0.0  \n",
      "3251        1.0        0.0  \n",
      "16623       1.0        0.0  \n",
      "...         ...        ...  \n",
      "12894       0.0        0.0  \n",
      "13727       0.0        0.0  \n",
      "50          1.0        0.0  \n",
      "6683        1.0        0.0  \n",
      "15788       1.0        0.0  \n",
      "\n",
      "[3328 rows x 17 columns] [42. 81. 62. ... 46. 70. 40.] [74. 86. 69. ... 94. 43. 33.]\n"
     ]
    }
   ],
   "source": [
    "Y = np.array(final_df[\"audience_rating\"])  \n",
    "X = final_df.drop(\"audience_rating\", axis=1)                        \n",
    "\n",
    "x_train, x_test, y_train, y_test = train_test_split(X,Y,test_size=0.2)\n",
    "print(x_train, x_test, y_train, y_test)"
   ]
  },
  {
   "cell_type": "markdown",
   "id": "0f0db603",
   "metadata": {},
   "source": [
    "Let's use linear regression, ridge regression, decision trees and random forests on this data. We can use accuracy, mean absolute error, root mean square error and R2 score as parameters."
   ]
  },
  {
   "cell_type": "code",
   "execution_count": 38,
   "id": "439a7bea",
   "metadata": {},
   "outputs": [],
   "source": [
    "lr = LinearRegression()\n",
    "ridge = Ridge(alpha=0.5, fit_intercept=True, max_iter=1000)\n",
    "dt = DecisionTreeRegressor(criterion='absolute_error', max_depth=1000)\n",
    "rf = RandomForestRegressor(max_depth=1000)"
   ]
  },
  {
   "cell_type": "markdown",
   "id": "fccbcfc9",
   "metadata": {},
   "source": [
    "The hyperparameters were used after a lot of trial and error matches. These are the best hyperparameters I could find."
   ]
  },
  {
   "cell_type": "code",
   "execution_count": 39,
   "id": "a21d7df0",
   "metadata": {},
   "outputs": [],
   "source": [
    "models = [lr, ridge, dt, rf]\n",
    "names = [\"Linear Regressor\", \"Ridge Regressor\", \"Decision Tree Regressor\", \n",
    "        \"Random Forest Regressor\"]"
   ]
  },
  {
   "cell_type": "code",
   "execution_count": 40,
   "id": "c8b1ed11",
   "metadata": {},
   "outputs": [
    {
     "name": "stdout",
     "output_type": "stream",
     "text": [
      "Linear Regressor\n",
      "Train Accuracy: 0.46173979310477886, Test Accuracy: 0.47391400267357, Mean Absolute error: 11.82928184139104, Root Mean Square error: 14.837658975778513, R2 score: 0.47391400267357\n",
      "\n",
      "Ridge Regressor\n",
      "Train Accuracy: 0.46173259099176234, Test Accuracy: 0.4740879516705503, Mean Absolute error: 11.82768038619076, Root Mean Square error: 14.835205755872735, R2 score: 0.4740879516705503\n",
      "\n",
      "Decision Tree Regressor\n",
      "Train Accuracy: 1.0, Test Accuracy: -0.052304837991966835, Mean Absolute error: 16.291518938540403, Root Mean Square error: 20.984943172584856, R2 score: -0.052304837991966835\n",
      "\n",
      "Random Forest Regressor\n",
      "Train Accuracy: 0.92727744219255, Test Accuracy: 0.4865405703248201, Mean Absolute error: 11.572819939952257, Root Mean Square error: 14.658518551130843, R2 score: 0.4865405703248201\n",
      "\n"
     ]
    }
   ],
   "source": [
    "for name, model in zip(names, models):\n",
    "    print(name)   \n",
    "    model.fit(x_train, y_train)\n",
    "    y_predict = model.predict(x_test)\n",
    "    train_score = model.score(x_train, y_train)\n",
    "    test_score = model.score(x_test, y_test)\n",
    "    mae = mean_absolute_error(y_test, y_predict)\n",
    "    rmse = math.sqrt(mean_squared_error(y_test, y_predict))\n",
    "    r2 = r2_score(y_test, y_predict)\n",
    "    print(\"Train Accuracy: {}, Test Accuracy: {}, Mean Absolute error: {}, Root Mean Square error: {}, R2 score: {}\\n\".format(train_score, test_score, mae, rmse, r2))"
   ]
  },
  {
   "cell_type": "markdown",
   "id": "470f8a39",
   "metadata": {},
   "source": [
    "We can see that none of the models produce excellent results. None of them have even provided 50% accuracy. This is clearly stated in Decision trees when we have training accuracy of 100% and test accuracy as -0.05%, indicating a clear case of overfitting. However, there is a chance of even less scores if we drop more columns, so this is the best shot we have.\n",
    "\n",
    "(Note: Trying Standard Scaling and using PCA resulted in even less accuracy, so I have decided not to use that.)"
   ]
  },
  {
   "cell_type": "code",
   "execution_count": null,
   "id": "ee7de5be",
   "metadata": {},
   "outputs": [],
   "source": []
  }
 ],
 "metadata": {
  "kernelspec": {
   "display_name": "Python 3 (ipykernel)",
   "language": "python",
   "name": "python3"
  },
  "language_info": {
   "codemirror_mode": {
    "name": "ipython",
    "version": 3
   },
   "file_extension": ".py",
   "mimetype": "text/x-python",
   "name": "python",
   "nbconvert_exporter": "python",
   "pygments_lexer": "ipython3",
   "version": "3.11.7"
  }
 },
 "nbformat": 4,
 "nbformat_minor": 5
}
